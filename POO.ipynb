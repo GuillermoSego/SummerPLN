{
 "cells": [
  {
   "cell_type": "markdown",
   "metadata": {},
   "source": [
    "# Conceptos de Programación Orientada a Objetos\n",
    "Guillermo Segura Gómez\n",
    "\n",
    "Muchas de las instancias o modelos que se ejecutan en la actualidad utilizan conceptos importantísimos de programación orientada a objetos, como lo son las clases, la herencia y el polimorfismo. En este notebook se repasan estos conceptos. \n",
    "\n",
    "El lenguaje de programación Python, es un lenguaje denominado orientado a objetos. Esto quiere decir que el paradigma de programación que se utiliza es el orientado a objetos. El importar librerías con facilidad y el usar métodos y clases de cada una de ellas hace que python sea tan atractivo, ya que podemos ver los objetos de las librerías como pequeños bloques con los que podemos acceder a inmensas líneas de código en una sola línea. "
   ]
  },
  {
   "cell_type": "markdown",
   "metadata": {},
   "source": [
    "## Clases y objetos\n",
    "\n",
    "Una clase funciona como si fuera un *molde* o plantilla sobre la cual podemos construir cosas. Podemos realizar un molde para zapatos y crear muchos zapatos iguales con distintos nombres. De la misma forma, cada clase permite crear múltiples **objetos** iguales, con nombres diferentes.\n",
    "\n",
    "Dentro de cada clase se definen **atributos** o variables y **métodos** que son funciones. \n",
    "\n",
    "Aquí es importante aclarar una cosa. Se pueden crear objetos iguales a partir de la misma clase, lo que cambia son los diferentes atributos que cada objeto tiene. Entonces estamos creando **instancias** de la clase. \n",
    "\n",
    "Los métodos de la clase son funciones definidas dentro de las clases que describen los comportamientos de los objetos. Es decir un objeto puede ejecutar las funciones definidas en la clase. Los métodos (funciones de la clase) pueden acceder y modificar atributos del objeto utilizado **self*+*. Existen métodos importantes para declarar cada clase:\n",
    "\n",
    "* **Método constructor**: Permite inicializar un objeto de una clase específica. Sin el método constructor, no sería posible declarar para posterior utilizar un objeto dentro de la clase. (Aunque me parece que si uno no lo declara, se llama automáticamente)\n",
    "* **Métodos de instancia**: Operan sobre las instancias individuales de las clases. Es decir acceden a los atributos. \n",
    "* **Métodos de clase** (@classmethod): Operan sobre las clases en general. No lo hacen sobre las instancias individuales. \n",
    "* **Métodos Estáticos** (@staticmethod): Son métodos que no acceden a los atributos de instancia ni de clase. Funcionan como funciones normales pero se incluyen en la clase por razones organizativas.\n",
    "\n",
    "Un ejemplo muy simple de clase es el siguiente. Creamos una clase que funcione como modelo de automóvil (esto podría extrapolarse fácilmente al concepto de redes neuronales). Tenemos una clase base, o molde (modelo en caso de RN), sobre la cual creamos instancias que tengan sus propios atributos, es decir nuestra clase es el propio concepto de auto, cada auto diferente son las instancias. "
   ]
  },
  {
   "cell_type": "code",
   "execution_count": 8,
   "metadata": {},
   "outputs": [],
   "source": [
    "class Auto:\n",
    "    # Atributo de clase\n",
    "    ruedas = 4 # Todos los autos tienen 4 ruedas\n",
    "\n",
    "    # Definimos ahora un atributo de objeto, cada instancia tendrá su propio valor\n",
    "    def __init__(self, marca, modelo):\n",
    "        self.marca = marca\n",
    "        self.modelo = modelo\n",
    "        self._encendido = False  # Atributo privado (convención)\n",
    "\n",
    "    # Método de instancia\n",
    "    def encender(self):\n",
    "        self._encendido = True\n",
    "\n",
    "    def apagar(self):\n",
    "        self._encendido = False\n",
    "\n",
    "    def estado(self):\n",
    "        estado = \"encendido\" if self._encendido else \"apagado\"\n",
    "        return f\"El coche {self.marca} {self.modelo} está {estado}.\"\n",
    "    \n",
    "    # Método de clase\n",
    "    @classmethod\n",
    "    def cambio_ruedas(cls, nuevas_ruedas):\n",
    "        cls.ruedas = nuevas_ruedas\n",
    "    \n",
    "    # Método estático\n",
    "    @staticmethod\n",
    "    def informacion_general():\n",
    "        print(\"Un auto tiene 4 ruedas y un motor\")\n",
    "    "
   ]
  },
  {
   "cell_type": "markdown",
   "metadata": {},
   "source": [
    "Creamos instancias de la clase y podemos utilizar sus métodos. "
   ]
  },
  {
   "cell_type": "code",
   "execution_count": 16,
   "metadata": {},
   "outputs": [
    {
     "name": "stdout",
     "output_type": "stream",
     "text": [
      "La marca del auto1 es: Toyota\n",
      "El coche Toyota Supra está encendido.\n",
      "El coche Ford Mustang está apagado.\n",
      "3\n",
      "Un auto tiene 4 ruedas y un motor\n",
      "None\n"
     ]
    }
   ],
   "source": [
    "# Creamos una instancia de la clase Auto\n",
    "auto1 = Auto(\"Toyota\", \"Supra\")\n",
    "print(\"La marca del auto1 es: \" + auto1.marca)\n",
    "\n",
    "auto2 = Auto(\"Ford\", \"Mustang\")\n",
    "\n",
    "# Método de la instancia\n",
    "auto1.encender()\n",
    "\n",
    "print(auto1.estado())\n",
    "print(auto2.estado())\n",
    "\n",
    "# Método de clase\n",
    "Auto.cambio_ruedas(3)\n",
    "print(auto1.ruedas)\n",
    "\n",
    "# Método estático\n",
    "print(Auto.informacion_general())"
   ]
  },
  {
   "cell_type": "markdown",
   "metadata": {},
   "source": [
    "## Herencia\n",
    "\n",
    "La **herencia** permite a una clase (clase derivada o subclase) *heredar* atributos y métodos de otra clase (clase base o superclase). Esto facilita la reutilización del código y permite crear nuevas clases basadas en clases existentes, añadiendo o modificando funcionalidades.\n",
    "\n",
    "En Python, la herencia se implementa definiendo una nueva clase que toma otra clase como argumento."
   ]
  },
  {
   "cell_type": "code",
   "execution_count": 1,
   "metadata": {},
   "outputs": [],
   "source": [
    "class Animal:\n",
    "    def __init__(self, nombre):\n",
    "        self.nombre = nombre\n",
    "\n",
    "    def hablar(self):\n",
    "        raise NotImplementedError(\"Este método debe ser implementado por las subclases\")"
   ]
  },
  {
   "cell_type": "code",
   "execution_count": 5,
   "metadata": {},
   "outputs": [
    {
     "ename": "NotImplementedError",
     "evalue": "Este método debe ser implementado por las subclases",
     "output_type": "error",
     "traceback": [
      "\u001b[0;31m---------------------------------------------------------------------------\u001b[0m",
      "\u001b[0;31mNotImplementedError\u001b[0m                       Traceback (most recent call last)",
      "Cell \u001b[0;32mIn[5], line 3\u001b[0m\n\u001b[1;32m      1\u001b[0m perro \u001b[38;5;241m=\u001b[39m Animal(\u001b[38;5;124m\"\u001b[39m\u001b[38;5;124mFirulais\u001b[39m\u001b[38;5;124m\"\u001b[39m)\n\u001b[0;32m----> 3\u001b[0m \u001b[43mperro\u001b[49m\u001b[38;5;241;43m.\u001b[39;49m\u001b[43mhablar\u001b[49m\u001b[43m(\u001b[49m\u001b[43m)\u001b[49m\n",
      "Cell \u001b[0;32mIn[1], line 6\u001b[0m, in \u001b[0;36mAnimal.hablar\u001b[0;34m(self)\u001b[0m\n\u001b[1;32m      5\u001b[0m \u001b[38;5;28;01mdef\u001b[39;00m \u001b[38;5;21mhablar\u001b[39m(\u001b[38;5;28mself\u001b[39m):\n\u001b[0;32m----> 6\u001b[0m     \u001b[38;5;28;01mraise\u001b[39;00m \u001b[38;5;167;01mNotImplementedError\u001b[39;00m(\u001b[38;5;124m\"\u001b[39m\u001b[38;5;124mEste método debe ser implementado por las subclases\u001b[39m\u001b[38;5;124m\"\u001b[39m)\n",
      "\u001b[0;31mNotImplementedError\u001b[0m: Este método debe ser implementado por las subclases"
     ]
    }
   ],
   "source": [
    "perro = Animal(\"Firulais\")\n",
    "perro.hablar()"
   ]
  },
  {
   "cell_type": "code",
   "execution_count": 6,
   "metadata": {},
   "outputs": [],
   "source": [
    "class Perro(Animal):\n",
    "    def hablar(self):\n",
    "        return \"Guau\"\n",
    "\n",
    "class Gato(Animal):\n",
    "    def hablar(self):\n",
    "        return \"Miau\""
   ]
  },
  {
   "cell_type": "code",
   "execution_count": 7,
   "metadata": {},
   "outputs": [
    {
     "data": {
      "text/plain": [
       "'Guau'"
      ]
     },
     "execution_count": 7,
     "metadata": {},
     "output_type": "execute_result"
    }
   ],
   "source": [
    "perro = Perro(\"Panracio\")\n",
    "perro.hablar()"
   ]
  },
  {
   "cell_type": "markdown",
   "metadata": {},
   "source": [
    "## Librerías de python y poo\n",
    "\n",
    "Las librerías en Python como por ejemplo numpy, utilizan conceptos de programación orientada a objetos para proporcionar su funcionalidad, pero hay algunas diferencias clave en cómo se utilizan en comparación con el ejemplo básico de clases e instancias que discutimos antes.\n",
    "\n",
    "NumPy es una biblioteca para el cálculo numérico en Python que utiliza estructuras de datos eficientes (arrays) y una amplia colección de funciones para manipular estos arrays. NumPy está escrito en gran parte en C, lo que le da un rendimiento mucho mayor en comparación con el código Python puro.\n",
    "\n",
    "#### Creación de Arrays en NumPy\n",
    "\n",
    "Cuando utilizas `np.array()`, estás llamando a una función de nivel superior proporcionada por NumPy que crea una instancia de la clase `numpy.ndarray`. "
   ]
  },
  {
   "cell_type": "code",
   "execution_count": 17,
   "metadata": {},
   "outputs": [
    {
     "name": "stdout",
     "output_type": "stream",
     "text": [
      "[1 2 3 4]\n"
     ]
    }
   ],
   "source": [
    "import numpy as np\n",
    "\n",
    "# Crear un array de NumPy\n",
    "mi_array = np.array([1, 2, 3, 4])\n",
    "print(mi_array)"
   ]
  },
  {
   "cell_type": "markdown",
   "metadata": {},
   "source": [
    "En este ejemplo, `np.array()` no es un método de instancia, sino una función de fábrica. Una **función de fábrica** es una función que crea y devuelve una nueva instancia de una clase. `np.array()` crea y devuelve una instancia de la clase `numpy.ndarray`.\n",
    "\n",
    "### Clase `numpy.ndarray`\n",
    "\n",
    "La clase `numpy.ndarray` es la clase central en NumPy. Representa un array multidimensional, homogéneo y de tamaño fijo. Aquí están algunos aspectos clave:\n",
    "\n",
    "- **Atributos de Instancia**: Un `numpy.ndarray` tiene atributos que describen su forma, tamaño, tipo de datos, etc.\n",
    "- **Métodos de Instancia**: Un `numpy.ndarray` tiene métodos que operan sobre la instancia del array.\n",
    "\n",
    "#### Ejemplo de `numpy.ndarray`\n",
    "\n",
    "\n",
    "En este ejemplo, `mi_array` es una instancia de la clase `numpy.ndarray`. Puedes acceder a sus atributos (`shape`, `dtype`) y llamar a sus métodos (`sum()`)."
   ]
  },
  {
   "cell_type": "code",
   "execution_count": 18,
   "metadata": {},
   "outputs": [
    {
     "name": "stdout",
     "output_type": "stream",
     "text": [
      "(4,)\n",
      "int64\n",
      "10\n"
     ]
    }
   ],
   "source": [
    "# Crear un array de NumPy\n",
    "mi_array = np.array([1, 2, 3, 4])\n",
    "\n",
    "# Atributos de la instancia\n",
    "print(mi_array.shape)  # Salida: (4,)\n",
    "print(mi_array.dtype)  # Salida: int64 (o similar, dependiendo del sistema)\n",
    "\n",
    "# Métodos de la instancia\n",
    "mi_array_suma = mi_array.sum()\n",
    "print(mi_array_suma)  # Salida: 10"
   ]
  },
  {
   "cell_type": "markdown",
   "metadata": {},
   "source": [
    "### Diferencias entre Métodos de Instancia y Funciones de Nivel Superior\n",
    "\n",
    "1. **Métodos de Instancia**: Son funciones que operan sobre una instancia específica de una clase y se llaman utilizando esa instancia."
   ]
  },
  {
   "cell_type": "code",
   "execution_count": 19,
   "metadata": {},
   "outputs": [
    {
     "data": {
      "text/plain": [
       "10"
      ]
     },
     "execution_count": 19,
     "metadata": {},
     "output_type": "execute_result"
    }
   ],
   "source": [
    "mi_array.sum()  # Método de instancia"
   ]
  },
  {
   "cell_type": "markdown",
   "metadata": {},
   "source": [
    "2. **Funciones de Nivel Superior**: Son funciones que pueden crear o manipular instancias de clases, pero no se llaman sobre una instancia específica. Una función de nivel superior es cualquier función que no esté definida dentro de una clase. Estas funciones pueden realizar diversas tareas, incluida la creación de objetos (como lo hacen las funciones de fábrica), pero también pueden realizar otros tipos de operaciones."
   ]
  },
  {
   "cell_type": "code",
   "execution_count": 20,
   "metadata": {},
   "outputs": [
    {
     "data": {
      "text/plain": [
       "array([1, 2, 3, 4])"
      ]
     },
     "execution_count": 20,
     "metadata": {},
     "output_type": "execute_result"
    }
   ],
   "source": [
    "np.array([1, 2, 3, 4])  # Función de nivel superior"
   ]
  },
  {
   "cell_type": "markdown",
   "metadata": {},
   "source": [
    "### Resumen\n",
    "\n",
    "- **NumPy**: Utiliza POO para definir estructuras de datos y funciones eficientes.\n",
    "- **np.array()**: Es una función de fábrica que crea una instancia de `numpy.ndarray`.\n",
    "- **numpy.ndarray**: Es la clase central en NumPy que representa arrays multidimensionales y tiene atributos y métodos que operan sobre los arrays.\n",
    "- **Métodos de Instancia**: Se llaman sobre una instancia específica de una clase (`mi_array.sum()`).\n",
    "- **Funciones de Nivel Superior**: No se llaman sobre una instancia específica y pueden crear nuevas instancias (`np.array()`).\n",
    "\n",
    "Este enfoque permite que NumPy proporcione una API poderosa y flexible para el cálculo numérico, combinando funciones de nivel superior con métodos de instancia para manipular eficientemente datos en forma de arrays."
   ]
  },
  {
   "cell_type": "markdown",
   "metadata": {},
   "source": [
    "### PyTorch y la herencia\n",
    "\n",
    "En PyTorch (revisar notebook de pytorch), se puede utilizar la herencia para crear nuevas arquitecturas de redes neuronales basadas en las clases proporcionadas por PyTorch. La clase nn.Module es la clase base para todas las redes neuronales en PyTorch."
   ]
  },
  {
   "cell_type": "code",
   "execution_count": 8,
   "metadata": {},
   "outputs": [],
   "source": [
    "import torch\n",
    "import torch.nn as nn\n",
    "import torch.optim as optim\n",
    "\n",
    "# Definir una red neuronal base\n",
    "class BaseNet(nn.Module):\n",
    "    def __init__(self):\n",
    "        super(BaseNet, self).__init__()\n",
    "        self.fc1 = nn.Linear(10, 50)\n",
    "        self.fc2 = nn.Linear(50, 20)\n",
    "\n",
    "    def forward(self, x):\n",
    "        x = torch.relu(self.fc1(x))\n",
    "        x = torch.relu(self.fc2(x))\n",
    "        return x"
   ]
  }
 ],
 "metadata": {
  "kernelspec": {
   "display_name": "PLN",
   "language": "python",
   "name": "python3"
  },
  "language_info": {
   "codemirror_mode": {
    "name": "ipython",
    "version": 3
   },
   "file_extension": ".py",
   "mimetype": "text/x-python",
   "name": "python",
   "nbconvert_exporter": "python",
   "pygments_lexer": "ipython3",
   "version": "3.11.0"
  }
 },
 "nbformat": 4,
 "nbformat_minor": 2
}
